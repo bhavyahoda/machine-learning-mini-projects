{
 "cells": [
  {
   "cell_type": "code",
   "execution_count": 1,
   "metadata": {},
   "outputs": [],
   "source": [
    "import requests "
   ]
  },
  {
   "cell_type": "code",
   "execution_count": 2,
   "metadata": {},
   "outputs": [],
   "source": [
    "data=requests.get(\"https://raw.githubusercontent.com/coding-blocks-archives/ML-Noida-2019-June-Two/master/datasets/speeches/speech.txt\")"
   ]
  },
  {
   "cell_type": "code",
   "execution_count": 3,
   "metadata": {},
   "outputs": [],
   "source": [
    "data=data.text \n",
    "#this is t extract the things from response object coz by requests.get we get a response object"
   ]
  },
  {
   "cell_type": "code",
   "execution_count": 4,
   "metadata": {},
   "outputs": [
    {
     "data": {
      "text/plain": [
       "'26 8 2016, India\\nNiti Aayog\\nThere was a time when development was believed to depend on the quantity of capital and labour. Today we know that it depends as much on the quality of institutions and ideas. Early last year, a new institution was created, namely, the National Institution for Transforming India or NITI. NITI was created as an evidence based think tank to guide India’s transformation.\\nOne of NITI’s functions is:\\n- to mainstream external ideas into Government policies, through collabor'"
      ]
     },
     "execution_count": 4,
     "metadata": {},
     "output_type": "execute_result"
    }
   ],
   "source": [
    "data[0:500]"
   ]
  },
  {
   "cell_type": "markdown",
   "metadata": {},
   "source": [
    "\"hello hello helli helly helli hello\"#this is a sample data \n",
    "#This thing below is transition table \n",
    "X.      y.       freq\n",
    "\"hell\"  'o'      3\n",
    "\"ello\"  ' '      2\n",
    "\"hell\"  'i'      2\n",
    "\"hell\"   'y'     1\n",
    "#the above table is not complete it is just telling how we have to write \n",
    "#these above lines mean that if hell is input then o is output and this word is in my data once till now \n",
    "#now imagine if a user types the word hell then since the word hello appears 3 times\n",
    "#hence we will output that since it has the maximum probabiloty"
   ]
  },
  {
   "cell_type": "code",
   "execution_count": 5,
   "metadata": {},
   "outputs": [],
   "source": [
    "def generateTransition(data,k=4):\n",
    "    T={}\n",
    "    \n",
    "    for i in range(len(data)-k):\n",
    "        X=data[i:i+k]\n",
    "        y=data[i+k]#output \n",
    "        \n",
    "        if T.get(X) is None:#if input state is not there in the dictionary \n",
    "            T[X]={}#new dictionary \n",
    "            T[X][y]=1\n",
    "        else:\n",
    "            if T[X].get(y) is None:#if u already have input in dictionary but the output is not there \n",
    "                T[X][y]=1\n",
    "            else:\n",
    "                T[X][y]+=1#++ does not work in python\n",
    "                #if u have both input and output in dict just increment the frequency\n",
    "    return T"
   ]
  },
  {
   "cell_type": "code",
   "execution_count": 6,
   "metadata": {},
   "outputs": [],
   "source": [
    "s=\"hello hello helli helly helli hello\"\n",
    "T=generateTransition(s)"
   ]
  },
  {
   "cell_type": "code",
   "execution_count": 7,
   "metadata": {},
   "outputs": [
    {
     "data": {
      "text/plain": [
       "{'o': 3, 'i': 2, 'y': 1}"
      ]
     },
     "execution_count": 7,
     "metadata": {},
     "output_type": "execute_result"
    }
   ],
   "source": [
    "T['hell']#means if i write hell then what is my probability of choosing "
   ]
  },
  {
   "cell_type": "code",
   "execution_count": 8,
   "metadata": {},
   "outputs": [],
   "source": [
    "#now let us work with original data \n",
    "T1=generateTransition(data.lower())#converting everthing to lower case "
   ]
  },
  {
   "cell_type": "code",
   "execution_count": 9,
   "metadata": {},
   "outputs": [],
   "source": [
    "input=\"country\"\n",
    "possible_chars=list(T1[input[-4:]].keys())\n",
    "possible_freq=list(T1[input[-4:]].values())#generates all possible characters \n",
    "probabs=[ele/sum(possible_freq) for ele in possible_freq]\n",
    "#input[-4:] means ntry"
   ]
  },
  {
   "cell_type": "code",
   "execution_count": 10,
   "metadata": {},
   "outputs": [
    {
     "data": {
      "text/plain": [
       "[0.48498845265588914,\n",
       " 0.10277136258660508,\n",
       " 0.22170900692840648,\n",
       " 0.1397228637413395,\n",
       " 0.018475750577367205,\n",
       " 0.009237875288683603,\n",
       " 0.0011547344110854503,\n",
       " 0.004618937644341801,\n",
       " 0.003464203233256351,\n",
       " 0.009237875288683603,\n",
       " 0.0011547344110854503,\n",
       " 0.0023094688221709007,\n",
       " 0.0011547344110854503]"
      ]
     },
     "execution_count": 10,
     "metadata": {},
     "output_type": "execute_result"
    }
   ],
   "source": [
    "probabs"
   ]
  },
  {
   "cell_type": "code",
   "execution_count": 11,
   "metadata": {},
   "outputs": [
    {
     "name": "stdout",
     "output_type": "stream",
     "text": [
      "[' ', ',', '.', 'm', '’', \"'\", 'w', ';', '-', '?', 'a', '!', '\\n']\n",
      "[0.48498845265588914, 0.10277136258660508, 0.22170900692840648, 0.1397228637413395, 0.018475750577367205, 0.009237875288683603, 0.0011547344110854503, 0.004618937644341801, 0.003464203233256351, 0.009237875288683603, 0.0011547344110854503, 0.0023094688221709007, 0.0011547344110854503]\n"
     ]
    }
   ],
   "source": [
    "print(possible_chars)\n",
    "print(probabs)"
   ]
  },
  {
   "cell_type": "code",
   "execution_count": 12,
   "metadata": {},
   "outputs": [],
   "source": [
    "import numpy as np\n",
    "pred=np.random.choice(possible_chars,p=probabs)"
   ]
  },
  {
   "cell_type": "code",
   "execution_count": 13,
   "metadata": {},
   "outputs": [],
   "source": [
    "input+=pred"
   ]
  },
  {
   "cell_type": "code",
   "execution_count": 14,
   "metadata": {},
   "outputs": [
    {
     "data": {
      "text/plain": [
       "'country '"
      ]
     },
     "execution_count": 14,
     "metadata": {},
     "output_type": "execute_result"
    }
   ],
   "source": [
    "input"
   ]
  },
  {
   "cell_type": "code",
   "execution_count": 15,
   "metadata": {},
   "outputs": [],
   "source": [
    "for i in range(300):\n",
    "    possible_chars=list(T1[input[-4:]].keys())\n",
    "    possible_freq=list(T1[input[-4:]].values())#generates all possible characters \n",
    "    probabs=[ele/sum(possible_freq) for ele in possible_freq]\n",
    "    pred=np.random.choice(possible_chars,p=probabs)\n",
    "    input+=pred"
   ]
  },
  {
   "cell_type": "code",
   "execution_count": 16,
   "metadata": {},
   "outputs": [
    {
     "name": "stdout",
     "output_type": "stream",
     "text": [
      "country with a come discriptions, who say of 600 small also expect avoidances augurations one that made afforts to the solution.\n",
      "diagnosis own. we disas for the courage an or this so were, india to take addressional chose whose family life you, which work toward if the asked to go belongwith on co-existenin\n"
     ]
    }
   ],
   "source": [
    "print(input)"
   ]
  },
  {
   "cell_type": "code",
   "execution_count": null,
   "metadata": {},
   "outputs": [],
   "source": []
  }
 ],
 "metadata": {
  "kernelspec": {
   "display_name": "Python 3",
   "language": "python",
   "name": "python3"
  },
  "language_info": {
   "codemirror_mode": {
    "name": "ipython",
    "version": 3
   },
   "file_extension": ".py",
   "mimetype": "text/x-python",
   "name": "python",
   "nbconvert_exporter": "python",
   "pygments_lexer": "ipython3",
   "version": "3.8.0"
  }
 },
 "nbformat": 4,
 "nbformat_minor": 4
}
